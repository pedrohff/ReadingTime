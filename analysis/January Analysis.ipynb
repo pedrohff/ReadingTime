{
 "cells": [
  {
   "cell_type": "code",
   "execution_count": 1,
   "metadata": {},
   "outputs": [],
   "source": [
    "import pandas as pd\n",
    "import json\n",
    "import requests\n",
    "import seaborn as sns\n",
    "import datetime\n",
    "import numpy as np"
   ]
  },
  {
   "cell_type": "code",
   "execution_count": 2,
   "metadata": {},
   "outputs": [],
   "source": [
    "global dfUserbooks\n",
    "global dfRecords\n",
    "global dfBooks"
   ]
  },
  {
   "cell_type": "code",
   "execution_count": 6,
   "metadata": {},
   "outputs": [],
   "source": [
    "def loadUserInfo(userId):\n",
    "    userbooksUrl = \"https://pizzagent-e12b9.firebaseio.com/userbooks/{uid}.json\".format(uid = userId)\n",
    "    global dfUserbooks\n",
    "    global dfRecords\n",
    "    global dfBooks\n",
    "    #records\n",
    "    dfRecords = getRecords(userId)\n",
    "    dfRecords['date'] = dfRecords['date'].apply(transformDate)\n",
    "    \n",
    "    #userbooks\n",
    "    dfUserbooks = getUserbooks(userId)\n",
    "    dfUserbooks['dateFinished'] = dfUserbooks['dateFinished'].apply(transformDate)\n",
    "    dfUserbooks['lastVisit'] = dfUserbooks['lastVisit'].apply(transformDate)"
   ]
  },
  {
   "cell_type": "code",
   "execution_count": 3,
   "metadata": {},
   "outputs": [],
   "source": [
    "def getRecords(userId):\n",
    "    url = \"https://pizzagent-e12b9.firebaseio.com/records/{id}.json\".format(id=userId)\n",
    "    raw_data = requests.get(url).json()\n",
    "    records = []\n",
    "    for key in raw_data.keys():\n",
    "        book_data = raw_data[key]\n",
    "        for day in book_data:\n",
    "            records.append(book_data[day])\n",
    "    return pd.DataFrame(records)"
   ]
  },
  {
   "cell_type": "code",
   "execution_count": 4,
   "metadata": {},
   "outputs": [],
   "source": [
    "def getUserbooks(userId):\n",
    "    url = \"https://pizzagent-e12b9.firebaseio.com/userbooks/{id}.json\".format(id=userId)\n",
    "    raw_data = requests.get(url).json()\n",
    "    userbooks = []\n",
    "    for key in raw_data.keys():\n",
    "        userbooks.append(raw_data[key])\n",
    "    return pd.DataFrame(userbooks)"
   ]
  },
  {
   "cell_type": "code",
   "execution_count": 5,
   "metadata": {},
   "outputs": [],
   "source": [
    "def transformDate(timestamp):\n",
    "    if not np.isnan(timestamp):\n",
    "        return datetime.datetime.fromtimestamp(timestamp/1000)"
   ]
  },
  {
   "cell_type": "code",
   "execution_count": 7,
   "metadata": {},
   "outputs": [],
   "source": [
    "loadUserInfo(\"pedro\")"
   ]
  },
  {
   "cell_type": "code",
   "execution_count": 8,
   "metadata": {},
   "outputs": [
    {
     "data": {
      "text/html": [
       "<div>\n",
       "<style scoped>\n",
       "    .dataframe tbody tr th:only-of-type {\n",
       "        vertical-align: middle;\n",
       "    }\n",
       "\n",
       "    .dataframe tbody tr th {\n",
       "        vertical-align: top;\n",
       "    }\n",
       "\n",
       "    .dataframe thead th {\n",
       "        text-align: right;\n",
       "    }\n",
       "</style>\n",
       "<table border=\"1\" class=\"dataframe\">\n",
       "  <thead>\n",
       "    <tr style=\"text-align: right;\">\n",
       "      <th></th>\n",
       "      <th>bookId</th>\n",
       "      <th>date</th>\n",
       "      <th>dateString</th>\n",
       "      <th>id</th>\n",
       "      <th>milisRead</th>\n",
       "      <th>pageStopped</th>\n",
       "      <th>pagesRead</th>\n",
       "    </tr>\n",
       "  </thead>\n",
       "  <tbody>\n",
       "    <tr>\n",
       "      <th>51</th>\n",
       "      <td>-L52Oc3nCh1VuYKnXnmy</td>\n",
       "      <td>2018-02-11</td>\n",
       "      <td>2018-02-11</td>\n",
       "      <td>-L56YQDyB5oWMvVgDbzs</td>\n",
       "      <td>5165143</td>\n",
       "      <td>80</td>\n",
       "      <td>80</td>\n",
       "    </tr>\n",
       "    <tr>\n",
       "      <th>52</th>\n",
       "      <td>-L52Oc3nCh1VuYKnXnmy</td>\n",
       "      <td>2018-02-12</td>\n",
       "      <td>2018-02-12</td>\n",
       "      <td>-L573lwV8sh0t0lTjTli</td>\n",
       "      <td>1328253</td>\n",
       "      <td>104</td>\n",
       "      <td>24</td>\n",
       "    </tr>\n",
       "    <tr>\n",
       "      <th>53</th>\n",
       "      <td>-L59l-PrmE6y3Ti4V7m_</td>\n",
       "      <td>2018-02-12</td>\n",
       "      <td>2018-02-12</td>\n",
       "      <td>-L5AXWExd_WY_x0_qK1l</td>\n",
       "      <td>2931942</td>\n",
       "      <td>160</td>\n",
       "      <td>160</td>\n",
       "    </tr>\n",
       "    <tr>\n",
       "      <th>54</th>\n",
       "      <td>-L5B7CVeWmQHbPiQo1bX</td>\n",
       "      <td>2018-02-12</td>\n",
       "      <td>2018-02-12</td>\n",
       "      <td>-L5Bpow9ccjx1gL0bEzv</td>\n",
       "      <td>1619555</td>\n",
       "      <td>200</td>\n",
       "      <td>200</td>\n",
       "    </tr>\n",
       "    <tr>\n",
       "      <th>55</th>\n",
       "      <td>-L5B7Zoyse8fv3QZhCtC</td>\n",
       "      <td>2018-02-12</td>\n",
       "      <td>2018-02-12</td>\n",
       "      <td>-L5BdUDTTII-AZa54Cpn</td>\n",
       "      <td>4685933</td>\n",
       "      <td>312</td>\n",
       "      <td>312</td>\n",
       "    </tr>\n",
       "  </tbody>\n",
       "</table>\n",
       "</div>"
      ],
      "text/plain": [
       "                  bookId       date  dateString                    id  \\\n",
       "51  -L52Oc3nCh1VuYKnXnmy 2018-02-11  2018-02-11  -L56YQDyB5oWMvVgDbzs   \n",
       "52  -L52Oc3nCh1VuYKnXnmy 2018-02-12  2018-02-12  -L573lwV8sh0t0lTjTli   \n",
       "53  -L59l-PrmE6y3Ti4V7m_ 2018-02-12  2018-02-12  -L5AXWExd_WY_x0_qK1l   \n",
       "54  -L5B7CVeWmQHbPiQo1bX 2018-02-12  2018-02-12  -L5Bpow9ccjx1gL0bEzv   \n",
       "55  -L5B7Zoyse8fv3QZhCtC 2018-02-12  2018-02-12  -L5BdUDTTII-AZa54Cpn   \n",
       "\n",
       "    milisRead  pageStopped  pagesRead  \n",
       "51    5165143           80         80  \n",
       "52    1328253          104         24  \n",
       "53    2931942          160        160  \n",
       "54    1619555          200        200  \n",
       "55    4685933          312        312  "
      ]
     },
     "execution_count": 8,
     "metadata": {},
     "output_type": "execute_result"
    }
   ],
   "source": [
    "dfRecords.tail()"
   ]
  },
  {
   "cell_type": "code",
   "execution_count": 9,
   "metadata": {},
   "outputs": [
    {
     "name": "stdout",
     "output_type": "stream",
     "text": [
      "Data from January\n",
      "Average Minutes Read per day: 34.357025185185186\n"
     ]
    },
    {
     "data": {
      "image/png": "[encoded data removed]",
      "text/plain": [
       "<matplotlib.figure.Figure at 0x7f7ad41a1198>"
      ]
     },
     "metadata": {},
     "output_type": "display_data"
    }
   ],
   "source": [
    "def graph_time(month, year = 2018,time_type = 'M'):\n",
    "    division = 0\n",
    "    label = ''\n",
    "    if time_type == 'M':\n",
    "        division = 60000\n",
    "        label = 'Minutes Read'\n",
    "    elif time_type == 'H':\n",
    "        division = 3600000\n",
    "        label = 'Hours Read'\n",
    "    df = dfRecords[['date', 'milisRead']].copy()\n",
    "    df = df[df['date'].dt.month == month]\n",
    "    month_name = df['date'].iloc[0].strftime(\"%B\")\n",
    "    df['date'] = df['date'].dt.day\n",
    "    df['milisRead'] = df['milisRead'].apply(lambda x : x/division)\n",
    "    df.rename(columns = {'milisRead': label, 'date':'Day' }, inplace=True)\n",
    "    \n",
    "    print(\"Data from \" + month_name)\n",
    "    print(\"Average {lb} per day: {avg}\".format(lb = label, avg = df[label].mean()))\n",
    "    df.groupby('Day').sum().plot()\n",
    "\n",
    "graph_time(1,'M')"
   ]
  },
  {
   "cell_type": "code",
   "execution_count": 10,
   "metadata": {},
   "outputs": [
    {
     "name": "stdout",
     "output_type": "stream",
     "text": [
      "Data from January\n",
      "Average pages read per day: 56.53333333333333\n"
     ]
    },
    {
     "data": {
      "image/png": "[encoded data removed]",
      "text/plain": [
       "<matplotlib.figure.Figure at 0x7f7acb9964e0>"
      ]
     },
     "metadata": {},
     "output_type": "display_data"
    }
   ],
   "source": [
    "def graph_pages(month):\n",
    "    df = dfRecords[['date', 'pagesRead']].copy()\n",
    "    df = df[df['date'].dt.month == month]\n",
    "    month_name = df['date'].iloc[0].strftime(\"%B\")\n",
    "    df['date'] = df['date'].dt.day\n",
    "    df.rename(columns = {'pagesRead': 'Pages Read', 'date':'Day' }, inplace=True)\n",
    "    \n",
    "    print(\"Data from \" + month_name)\n",
    "    print(\"Average pages read per day: {avg}\".format(avg = df['Pages Read'].mean()))\n",
    "    df.groupby('Day').sum().plot()\n",
    "\n",
    "graph_pages(1)"
   ]
  },
  {
   "cell_type": "code",
   "execution_count": 11,
   "metadata": {},
   "outputs": [
    {
     "name": "stdout",
     "output_type": "stream",
     "text": [
      "Data from January\n",
      "Average performance: 98.32 pages/hour\n"
     ]
    },
    {
     "data": {
      "image/png": "[encoded data removed]",
      "text/plain": [
       "<matplotlib.figure.Figure at 0x7f7ad418f400>"
      ]
     },
     "metadata": {},
     "output_type": "display_data"
    }
   ],
   "source": [
    "def graph_performance(month):\n",
    "    df = dfRecords[['date', 'pagesRead', 'milisRead']].copy()\n",
    "    df = df[df['date'].dt.month == month]\n",
    "    \n",
    "    month_name = df['date'].iloc[0].strftime(\"%B\")\n",
    "    df['date'] = df['date'].dt.day\n",
    "    df.rename(columns = {'pagesRead': 'Pages Read', 'date':'Day' }, inplace=True)\n",
    "    df = df.groupby('Day').sum()\n",
    "    \n",
    "    df['milisRead'] = df['milisRead'].apply(lambda x: x/3600000)\n",
    "    df['Performance'] = df['Pages Read'] / df['milisRead']\n",
    "    df = df[~np.isinf(df['Performance'])]\n",
    "    print(\"Data from \" + month_name)\n",
    "    print(\"Average performance: {avg:.2f} pages/hour\".format(avg = df['Performance'].mean()))\n",
    "    df['Performance'].plot()\n",
    "\n",
    "graph_performance(1)"
   ]
  }
 ],
 "metadata": {
  "kernelspec": {
   "display_name": "Python 3",
   "language": "python",
   "name": "python3"
  },
  "language_info": {
   "codemirror_mode": {
    "name": "ipython",
    "version": 3
   },
   "file_extension": ".py",
   "mimetype": "text/x-python",
   "name": "python",
   "nbconvert_exporter": "python",
   "pygments_lexer": "ipython3",
   "version": "3.6.4"
  }
 },
 "nbformat": 4,
 "nbformat_minor": 2
}
